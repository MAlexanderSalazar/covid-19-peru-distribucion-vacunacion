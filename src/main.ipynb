{
 "metadata": {
  "language_info": {
   "codemirror_mode": {
    "name": "ipython",
    "version": 3
   },
   "file_extension": ".py",
   "mimetype": "text/x-python",
   "name": "python",
   "nbconvert_exporter": "python",
   "pygments_lexer": "ipython3",
   "version": "3.8.5-final"
  },
  "orig_nbformat": 2,
  "kernelspec": {
   "name": "python3",
   "display_name": "Python 3.8.5 64-bit (conda)",
   "metadata": {
    "interpreter": {
     "hash": "cef9e06bb236b2a8629b07e87a04b187b952a0f661eff5533360a155783f0c33"
    }
   }
  }
 },
 "nbformat": 4,
 "nbformat_minor": 2,
 "cells": [
  {
   "cell_type": "code",
   "execution_count": 52,
   "metadata": {},
   "outputs": [],
   "source": [
    "# Importando los módulos que necesitaremos\n",
    "import numpy as np\n",
    "import pandas as pd\n",
    "import matplotlib.pyplot as plt\n",
    "from matplotlib import colors\n",
    "import seaborn as sns\n",
    "from matplotlib.ticker import PercentFormatter\n",
    "from datetime import datetime\n",
    "import os\n",
    "\n",
    "# Configurando los estílos de los gráficos\n",
    "plt.ioff()\n",
    "sns.set_context('talk')\n",
    "sns.set_style(\"whitegrid\")\n",
    "\n",
    "# Definiendo Constantes\n",
    "BINS = [0, 10, 20, 30, 40, 50, 60, 70, 80, 300]"
   ]
  },
  {
   "source": [
    "## Limpieza de Datos"
   ],
   "cell_type": "markdown",
   "metadata": {}
  },
  {
   "cell_type": "code",
   "execution_count": 53,
   "metadata": {},
   "outputs": [
    {
     "output_type": "execute_result",
     "data": {
      "text/plain": [
       "   FECHA_CORTE                              UUID       GRUPO_RIESGO  EDAD  \\\n",
       "0     20210227  c7ba6f9424c59a543e8803495c1061db  PERSONAL DE SALUD  39.0   \n",
       "1     20210227  51ffbe83478f1e64da17fe2756a9594b  PERSONAL DE SALUD  37.0   \n",
       "2     20210227  54048fe3b06c35f14350d7e81340bdbd  PERSONAL DE SALUD  44.0   \n",
       "3     20210227  746ad64c513b5d53b987ed48a6b45f77  PERSONAL DE SALUD  54.0   \n",
       "4     20210227  80f0a41dd63af3b96d4a80bfab2eaa61  PERSONAL DE SALUD  35.0   \n",
       "\n",
       "        SEXO  FECHA_VACUNACION  DOSIS FABRICANTE      DIRESA DEPARTAMENTO  \\\n",
       "0  MASCULINO          20210225      1  SINOPHARM  LAMBAYEQUE   LAMBAYEQUE   \n",
       "1   FEMENINO          20210219      1  SINOPHARM  LAMBAYEQUE   LAMBAYEQUE   \n",
       "2  MASCULINO          20210220      1  SINOPHARM  LAMBAYEQUE   LAMBAYEQUE   \n",
       "3   FEMENINO          20210220      1  SINOPHARM  LAMBAYEQUE   LAMBAYEQUE   \n",
       "4   FEMENINO          20210225      1  SINOPHARM  LAMBAYEQUE   LAMBAYEQUE   \n",
       "\n",
       "  PROVINCIA             DISTRITO  \n",
       "0  CHICLAYO             CHICLAYO  \n",
       "1  CHICLAYO  JOSE LEONARDO ORTIZ  \n",
       "2  CHICLAYO  JOSE LEONARDO ORTIZ  \n",
       "3  CHICLAYO  JOSE LEONARDO ORTIZ  \n",
       "4  CHICLAYO             CHICLAYO  "
      ],
      "text/html": "<div>\n<style scoped>\n    .dataframe tbody tr th:only-of-type {\n        vertical-align: middle;\n    }\n\n    .dataframe tbody tr th {\n        vertical-align: top;\n    }\n\n    .dataframe thead th {\n        text-align: right;\n    }\n</style>\n<table border=\"1\" class=\"dataframe\">\n  <thead>\n    <tr style=\"text-align: right;\">\n      <th></th>\n      <th>FECHA_CORTE</th>\n      <th>UUID</th>\n      <th>GRUPO_RIESGO</th>\n      <th>EDAD</th>\n      <th>SEXO</th>\n      <th>FECHA_VACUNACION</th>\n      <th>DOSIS</th>\n      <th>FABRICANTE</th>\n      <th>DIRESA</th>\n      <th>DEPARTAMENTO</th>\n      <th>PROVINCIA</th>\n      <th>DISTRITO</th>\n    </tr>\n  </thead>\n  <tbody>\n    <tr>\n      <th>0</th>\n      <td>20210227</td>\n      <td>c7ba6f9424c59a543e8803495c1061db</td>\n      <td>PERSONAL DE SALUD</td>\n      <td>39.0</td>\n      <td>MASCULINO</td>\n      <td>20210225</td>\n      <td>1</td>\n      <td>SINOPHARM</td>\n      <td>LAMBAYEQUE</td>\n      <td>LAMBAYEQUE</td>\n      <td>CHICLAYO</td>\n      <td>CHICLAYO</td>\n    </tr>\n    <tr>\n      <th>1</th>\n      <td>20210227</td>\n      <td>51ffbe83478f1e64da17fe2756a9594b</td>\n      <td>PERSONAL DE SALUD</td>\n      <td>37.0</td>\n      <td>FEMENINO</td>\n      <td>20210219</td>\n      <td>1</td>\n      <td>SINOPHARM</td>\n      <td>LAMBAYEQUE</td>\n      <td>LAMBAYEQUE</td>\n      <td>CHICLAYO</td>\n      <td>JOSE LEONARDO ORTIZ</td>\n    </tr>\n    <tr>\n      <th>2</th>\n      <td>20210227</td>\n      <td>54048fe3b06c35f14350d7e81340bdbd</td>\n      <td>PERSONAL DE SALUD</td>\n      <td>44.0</td>\n      <td>MASCULINO</td>\n      <td>20210220</td>\n      <td>1</td>\n      <td>SINOPHARM</td>\n      <td>LAMBAYEQUE</td>\n      <td>LAMBAYEQUE</td>\n      <td>CHICLAYO</td>\n      <td>JOSE LEONARDO ORTIZ</td>\n    </tr>\n    <tr>\n      <th>3</th>\n      <td>20210227</td>\n      <td>746ad64c513b5d53b987ed48a6b45f77</td>\n      <td>PERSONAL DE SALUD</td>\n      <td>54.0</td>\n      <td>FEMENINO</td>\n      <td>20210220</td>\n      <td>1</td>\n      <td>SINOPHARM</td>\n      <td>LAMBAYEQUE</td>\n      <td>LAMBAYEQUE</td>\n      <td>CHICLAYO</td>\n      <td>JOSE LEONARDO ORTIZ</td>\n    </tr>\n    <tr>\n      <th>4</th>\n      <td>20210227</td>\n      <td>80f0a41dd63af3b96d4a80bfab2eaa61</td>\n      <td>PERSONAL DE SALUD</td>\n      <td>35.0</td>\n      <td>FEMENINO</td>\n      <td>20210225</td>\n      <td>1</td>\n      <td>SINOPHARM</td>\n      <td>LAMBAYEQUE</td>\n      <td>LAMBAYEQUE</td>\n      <td>CHICLAYO</td>\n      <td>CHICLAYO</td>\n    </tr>\n  </tbody>\n</table>\n</div>"
     },
     "metadata": {},
     "execution_count": 53
    }
   ],
   "source": [
    "# Leo la fuente de datos local en CSV \n",
    "df = pd.read_csv('data/vacunas_covid.csv')\n",
    "df.head()"
   ]
  },
  {
   "cell_type": "code",
   "execution_count": 54,
   "metadata": {
    "tags": []
   },
   "outputs": [
    {
     "output_type": "execute_result",
     "data": {
      "text/plain": [
       "FECHA_CORTE         265608\n",
       "UUID                265608\n",
       "GRUPO_RIESGO        265608\n",
       "EDAD                265502\n",
       "SEXO                264719\n",
       "FECHA_VACUNACION    265608\n",
       "DOSIS               265608\n",
       "FABRICANTE          265608\n",
       "DIRESA              265608\n",
       "DEPARTAMENTO        265608\n",
       "PROVINCIA           265608\n",
       "DISTRITO            265608\n",
       "dtype: int64"
      ]
     },
     "metadata": {},
     "execution_count": 54
    }
   ],
   "source": [
    "# Obtengo el conteo del número de valores en cada columnas\n",
    "df.count()"
   ]
  },
  {
   "cell_type": "code",
   "execution_count": 55,
   "metadata": {},
   "outputs": [
    {
     "output_type": "stream",
     "name": "stdout",
     "text": [
      "['LAMBAYEQUE' 'LIMA' 'AMAZONAS' 'LA LIBERTAD' 'CAJAMARCA' 'AYACUCHO'\n 'APURIMAC' 'SAN MARTIN' 'PIURA' 'HUANUCO' 'LORETO' 'CALLAO' 'CUSCO' 'ICA'\n 'UCAYALI' 'HUANCAVELICA' 'AREQUIPA' 'JUNIN' 'MADRE DE DIOS' 'PASCO'\n 'PUNO' 'ANCASH' 'MOQUEGUA' 'TACNA' 'TUMBES']\n['MASCULINO' 'FEMENINO' nan]\n"
     ]
    }
   ],
   "source": [
    "# Verificamos que las columnas DEPARTAMENTO y SEXO tengan los valores indicados\n",
    "print(df['DEPARTAMENTO'].unique())\n",
    "print(df['SEXO'].unique())"
   ]
  },
  {
   "cell_type": "code",
   "execution_count": 56,
   "metadata": {},
   "outputs": [],
   "source": [
    "# Filtramos las filas que no tienen valor en las columnas EDAD o SEXO\n",
    "df = df[df['EDAD'].notnull() & df['SEXO'].notnull()]"
   ]
  },
  {
   "source": [
    "## Transformación de Datos"
   ],
   "cell_type": "markdown",
   "metadata": {}
  },
  {
   "cell_type": "code",
   "execution_count": 57,
   "metadata": {},
   "outputs": [],
   "source": [
    "# Agrupo el conjunto de datos por DEPARTAMENTO, SEXO y EDAD para el DataFrame\n",
    "gb = df[[\"DEPARTAMENTO\",\"SEXO\",'EDAD']].groupby(['DEPARTAMENTO', 'SEXO', pd.cut(df['EDAD'], BINS, False)])"
   ]
  },
  {
   "cell_type": "code",
   "execution_count": 58,
   "metadata": {},
   "outputs": [],
   "source": [
    "def get_data_by_department(department):\n",
    "    return df[df['DEPARTAMENTO'] == department]"
   ]
  },
  {
   "source": [
    "## Visualización de Datos"
   ],
   "cell_type": "markdown",
   "metadata": {}
  },
  {
   "cell_type": "code",
   "execution_count": 59,
   "metadata": {},
   "outputs": [
    {
     "output_type": "execute_result",
     "data": {
      "text/plain": [
       "EDAD                     [0, 10)  [10, 20)  [20, 30)  [30, 40)  [40, 50)  \\\n",
       "DEPARTAMENTO  SEXO                                                         \n",
       "AMAZONAS      FEMENINO         0         7       612      1060       619   \n",
       "              MASCULINO        0         4       303       590       419   \n",
       "ANCASH        FEMENINO         0         1       986      1772      1328   \n",
       "              MASCULINO        0         6       393       860       683   \n",
       "APURIMAC      FEMENINO         0         3       741      1380      1051   \n",
       "              MASCULINO        0         3       275       670       662   \n",
       "AREQUIPA      FEMENINO         0         4      1571      2935      2258   \n",
       "              MASCULINO        0         4       532      1156       977   \n",
       "AYACUCHO      FEMENINO         0         4       871      1567      1171   \n",
       "              MASCULINO        0         4       308       750       750   \n",
       "CAJAMARCA     FEMENINO         0         2      1243      2052      1320   \n",
       "              MASCULINO        0         8       522      1075       741   \n",
       "CALLAO        FEMENINO         0         5       941      2298      1930   \n",
       "              MASCULINO        0         8       536      1075       961   \n",
       "CUSCO         FEMENINO         0         9      1005      2508      1665   \n",
       "              MASCULINO        0         9       414      1039       922   \n",
       "HUANCAVELICA  FEMENINO         0         5       820      1176       685   \n",
       "              MASCULINO        0         4       307       546       431   \n",
       "HUANUCO       FEMENINO         0         4       924      1587      1044   \n",
       "              MASCULINO        0        11       349       830       658   \n",
       "ICA           FEMENINO         0         3      1166      1619      1152   \n",
       "              MASCULINO        0         5       394       719       578   \n",
       "JUNIN         FEMENINO         0         3      1807      2561      1544   \n",
       "              MASCULINO        0         7       518      1056       727   \n",
       "LA LIBERTAD   FEMENINO         0         4      1732      3184      2127   \n",
       "              MASCULINO        0        10       800      1457      1198   \n",
       "LAMBAYEQUE    FEMENINO         0         1      1143      2016      1522   \n",
       "              MASCULINO        0         1       441       896       792   \n",
       "LIMA          FEMENINO         0        39      7845     19744     15353   \n",
       "              MASCULINO        0        61      3855      9214      7628   \n",
       "LORETO        FEMENINO         0         2       516      1204       829   \n",
       "              MASCULINO        0         6       376       768       520   \n",
       "MADRE DE DIOS FEMENINO         0         4       174       355       259   \n",
       "              MASCULINO        0         1        75       174       129   \n",
       "MOQUEGUA      FEMENINO         0         3       418       735       627   \n",
       "              MASCULINO        0         4       133       336       274   \n",
       "PASCO         FEMENINO         0         1       428       612       449   \n",
       "              MASCULINO        0         3       159       302       291   \n",
       "PIURA         FEMENINO         0         7      1338      2464      2164   \n",
       "              MASCULINO        0        11       607      1177      1079   \n",
       "PUNO          FEMENINO         0         3       827      1611      1035   \n",
       "              MASCULINO        0         0       273       695       599   \n",
       "SAN MARTIN    FEMENINO         0         9       936      1669       836   \n",
       "              MASCULINO        0        11       529      1019       581   \n",
       "TACNA         FEMENINO         0         4       415       741       704   \n",
       "              MASCULINO        0         6       222       331       322   \n",
       "TUMBES        FEMENINO         0         0       314       512       428   \n",
       "              MASCULINO        0         0       171       277       248   \n",
       "UCAYALI       FEMENINO         0         3       562       893       649   \n",
       "              MASCULINO        0         6       333       511       407   \n",
       "\n",
       "EDAD                     [50, 60)  [60, 70)  [70, 80)  [80, 300)  \n",
       "DEPARTAMENTO  SEXO                                                \n",
       "AMAZONAS      FEMENINO        323        82         1          0  \n",
       "              MASCULINO       235       106         5          0  \n",
       "ANCASH        FEMENINO        859       543         0          0  \n",
       "              MASCULINO       516       348         4          0  \n",
       "APURIMAC      FEMENINO        480       162         3          0  \n",
       "              MASCULINO       395       176         2          0  \n",
       "AREQUIPA      FEMENINO       1931      1244         9          0  \n",
       "              MASCULINO       818       619        20          0  \n",
       "AYACUCHO      FEMENINO        658       282         2          0  \n",
       "              MASCULINO       493       234         5          0  \n",
       "CAJAMARCA     FEMENINO        601       264         1          0  \n",
       "              MASCULINO       424       181         6          0  \n",
       "CALLAO        FEMENINO       1532       791         7          0  \n",
       "              MASCULINO       727       491         6          0  \n",
       "CUSCO         FEMENINO       1001       703         2          0  \n",
       "              MASCULINO       612       375         4          0  \n",
       "HUANCAVELICA  FEMENINO        290       105         0          0  \n",
       "              MASCULINO       203       102         4          0  \n",
       "HUANUCO       FEMENINO        551       276         4          0  \n",
       "              MASCULINO       377       200         4          0  \n",
       "ICA           FEMENINO        923       593         3          0  \n",
       "              MASCULINO       541       362         4          0  \n",
       "JUNIN         FEMENINO        902       646         3          0  \n",
       "              MASCULINO       455       392         4          0  \n",
       "LA LIBERTAD   FEMENINO       1320       797         2          0  \n",
       "              MASCULINO       815       483        12          0  \n",
       "LAMBAYEQUE    FEMENINO        888       551         3          0  \n",
       "              MASCULINO       500       335         8          0  \n",
       "LIMA          FEMENINO      11757      6664        43          0  \n",
       "              MASCULINO      6034      3642       139          0  \n",
       "LORETO        FEMENINO        444       216         5          0  \n",
       "              MASCULINO       323       199        14          0  \n",
       "MADRE DE DIOS FEMENINO        161        40         0          0  \n",
       "              MASCULINO        93        46         1          0  \n",
       "MOQUEGUA      FEMENINO        380       171         0          0  \n",
       "              MASCULINO       251       138         1          0  \n",
       "PASCO         FEMENINO        269       120         0          0  \n",
       "              MASCULINO       171       107         1          0  \n",
       "PIURA         FEMENINO       1112       386         6          0  \n",
       "              MASCULINO       775       422         9          0  \n",
       "PUNO          FEMENINO        728       438         5          0  \n",
       "              MASCULINO       429       421        10          0  \n",
       "SAN MARTIN    FEMENINO        531       181         0          0  \n",
       "              MASCULINO       386       196         2          0  \n",
       "TACNA         FEMENINO        480       290         0          0  \n",
       "              MASCULINO       287       185         6          0  \n",
       "TUMBES        FEMENINO        211        93         1          0  \n",
       "              MASCULINO       166        87         4          0  \n",
       "UCAYALI       FEMENINO        336       151         1          0  \n",
       "              MASCULINO       266       142         7          0  "
      ],
      "text/html": "<div>\n<style scoped>\n    .dataframe tbody tr th:only-of-type {\n        vertical-align: middle;\n    }\n\n    .dataframe tbody tr th {\n        vertical-align: top;\n    }\n\n    .dataframe thead th {\n        text-align: right;\n    }\n</style>\n<table border=\"1\" class=\"dataframe\">\n  <thead>\n    <tr style=\"text-align: right;\">\n      <th></th>\n      <th>EDAD</th>\n      <th>[0, 10)</th>\n      <th>[10, 20)</th>\n      <th>[20, 30)</th>\n      <th>[30, 40)</th>\n      <th>[40, 50)</th>\n      <th>[50, 60)</th>\n      <th>[60, 70)</th>\n      <th>[70, 80)</th>\n      <th>[80, 300)</th>\n    </tr>\n    <tr>\n      <th>DEPARTAMENTO</th>\n      <th>SEXO</th>\n      <th></th>\n      <th></th>\n      <th></th>\n      <th></th>\n      <th></th>\n      <th></th>\n      <th></th>\n      <th></th>\n      <th></th>\n    </tr>\n  </thead>\n  <tbody>\n    <tr>\n      <th rowspan=\"2\" valign=\"top\">AMAZONAS</th>\n      <th>FEMENINO</th>\n      <td>0</td>\n      <td>7</td>\n      <td>612</td>\n      <td>1060</td>\n      <td>619</td>\n      <td>323</td>\n      <td>82</td>\n      <td>1</td>\n      <td>0</td>\n    </tr>\n    <tr>\n      <th>MASCULINO</th>\n      <td>0</td>\n      <td>4</td>\n      <td>303</td>\n      <td>590</td>\n      <td>419</td>\n      <td>235</td>\n      <td>106</td>\n      <td>5</td>\n      <td>0</td>\n    </tr>\n    <tr>\n      <th rowspan=\"2\" valign=\"top\">ANCASH</th>\n      <th>FEMENINO</th>\n      <td>0</td>\n      <td>1</td>\n      <td>986</td>\n      <td>1772</td>\n      <td>1328</td>\n      <td>859</td>\n      <td>543</td>\n      <td>0</td>\n      <td>0</td>\n    </tr>\n    <tr>\n      <th>MASCULINO</th>\n      <td>0</td>\n      <td>6</td>\n      <td>393</td>\n      <td>860</td>\n      <td>683</td>\n      <td>516</td>\n      <td>348</td>\n      <td>4</td>\n      <td>0</td>\n    </tr>\n    <tr>\n      <th rowspan=\"2\" valign=\"top\">APURIMAC</th>\n      <th>FEMENINO</th>\n      <td>0</td>\n      <td>3</td>\n      <td>741</td>\n      <td>1380</td>\n      <td>1051</td>\n      <td>480</td>\n      <td>162</td>\n      <td>3</td>\n      <td>0</td>\n    </tr>\n    <tr>\n      <th>MASCULINO</th>\n      <td>0</td>\n      <td>3</td>\n      <td>275</td>\n      <td>670</td>\n      <td>662</td>\n      <td>395</td>\n      <td>176</td>\n      <td>2</td>\n      <td>0</td>\n    </tr>\n    <tr>\n      <th rowspan=\"2\" valign=\"top\">AREQUIPA</th>\n      <th>FEMENINO</th>\n      <td>0</td>\n      <td>4</td>\n      <td>1571</td>\n      <td>2935</td>\n      <td>2258</td>\n      <td>1931</td>\n      <td>1244</td>\n      <td>9</td>\n      <td>0</td>\n    </tr>\n    <tr>\n      <th>MASCULINO</th>\n      <td>0</td>\n      <td>4</td>\n      <td>532</td>\n      <td>1156</td>\n      <td>977</td>\n      <td>818</td>\n      <td>619</td>\n      <td>20</td>\n      <td>0</td>\n    </tr>\n    <tr>\n      <th rowspan=\"2\" valign=\"top\">AYACUCHO</th>\n      <th>FEMENINO</th>\n      <td>0</td>\n      <td>4</td>\n      <td>871</td>\n      <td>1567</td>\n      <td>1171</td>\n      <td>658</td>\n      <td>282</td>\n      <td>2</td>\n      <td>0</td>\n    </tr>\n    <tr>\n      <th>MASCULINO</th>\n      <td>0</td>\n      <td>4</td>\n      <td>308</td>\n      <td>750</td>\n      <td>750</td>\n      <td>493</td>\n      <td>234</td>\n      <td>5</td>\n      <td>0</td>\n    </tr>\n    <tr>\n      <th rowspan=\"2\" valign=\"top\">CAJAMARCA</th>\n      <th>FEMENINO</th>\n      <td>0</td>\n      <td>2</td>\n      <td>1243</td>\n      <td>2052</td>\n      <td>1320</td>\n      <td>601</td>\n      <td>264</td>\n      <td>1</td>\n      <td>0</td>\n    </tr>\n    <tr>\n      <th>MASCULINO</th>\n      <td>0</td>\n      <td>8</td>\n      <td>522</td>\n      <td>1075</td>\n      <td>741</td>\n      <td>424</td>\n      <td>181</td>\n      <td>6</td>\n      <td>0</td>\n    </tr>\n    <tr>\n      <th rowspan=\"2\" valign=\"top\">CALLAO</th>\n      <th>FEMENINO</th>\n      <td>0</td>\n      <td>5</td>\n      <td>941</td>\n      <td>2298</td>\n      <td>1930</td>\n      <td>1532</td>\n      <td>791</td>\n      <td>7</td>\n      <td>0</td>\n    </tr>\n    <tr>\n      <th>MASCULINO</th>\n      <td>0</td>\n      <td>8</td>\n      <td>536</td>\n      <td>1075</td>\n      <td>961</td>\n      <td>727</td>\n      <td>491</td>\n      <td>6</td>\n      <td>0</td>\n    </tr>\n    <tr>\n      <th rowspan=\"2\" valign=\"top\">CUSCO</th>\n      <th>FEMENINO</th>\n      <td>0</td>\n      <td>9</td>\n      <td>1005</td>\n      <td>2508</td>\n      <td>1665</td>\n      <td>1001</td>\n      <td>703</td>\n      <td>2</td>\n      <td>0</td>\n    </tr>\n    <tr>\n      <th>MASCULINO</th>\n      <td>0</td>\n      <td>9</td>\n      <td>414</td>\n      <td>1039</td>\n      <td>922</td>\n      <td>612</td>\n      <td>375</td>\n      <td>4</td>\n      <td>0</td>\n    </tr>\n    <tr>\n      <th rowspan=\"2\" valign=\"top\">HUANCAVELICA</th>\n      <th>FEMENINO</th>\n      <td>0</td>\n      <td>5</td>\n      <td>820</td>\n      <td>1176</td>\n      <td>685</td>\n      <td>290</td>\n      <td>105</td>\n      <td>0</td>\n      <td>0</td>\n    </tr>\n    <tr>\n      <th>MASCULINO</th>\n      <td>0</td>\n      <td>4</td>\n      <td>307</td>\n      <td>546</td>\n      <td>431</td>\n      <td>203</td>\n      <td>102</td>\n      <td>4</td>\n      <td>0</td>\n    </tr>\n    <tr>\n      <th rowspan=\"2\" valign=\"top\">HUANUCO</th>\n      <th>FEMENINO</th>\n      <td>0</td>\n      <td>4</td>\n      <td>924</td>\n      <td>1587</td>\n      <td>1044</td>\n      <td>551</td>\n      <td>276</td>\n      <td>4</td>\n      <td>0</td>\n    </tr>\n    <tr>\n      <th>MASCULINO</th>\n      <td>0</td>\n      <td>11</td>\n      <td>349</td>\n      <td>830</td>\n      <td>658</td>\n      <td>377</td>\n      <td>200</td>\n      <td>4</td>\n      <td>0</td>\n    </tr>\n    <tr>\n      <th rowspan=\"2\" valign=\"top\">ICA</th>\n      <th>FEMENINO</th>\n      <td>0</td>\n      <td>3</td>\n      <td>1166</td>\n      <td>1619</td>\n      <td>1152</td>\n      <td>923</td>\n      <td>593</td>\n      <td>3</td>\n      <td>0</td>\n    </tr>\n    <tr>\n      <th>MASCULINO</th>\n      <td>0</td>\n      <td>5</td>\n      <td>394</td>\n      <td>719</td>\n      <td>578</td>\n      <td>541</td>\n      <td>362</td>\n      <td>4</td>\n      <td>0</td>\n    </tr>\n    <tr>\n      <th rowspan=\"2\" valign=\"top\">JUNIN</th>\n      <th>FEMENINO</th>\n      <td>0</td>\n      <td>3</td>\n      <td>1807</td>\n      <td>2561</td>\n      <td>1544</td>\n      <td>902</td>\n      <td>646</td>\n      <td>3</td>\n      <td>0</td>\n    </tr>\n    <tr>\n      <th>MASCULINO</th>\n      <td>0</td>\n      <td>7</td>\n      <td>518</td>\n      <td>1056</td>\n      <td>727</td>\n      <td>455</td>\n      <td>392</td>\n      <td>4</td>\n      <td>0</td>\n    </tr>\n    <tr>\n      <th rowspan=\"2\" valign=\"top\">LA LIBERTAD</th>\n      <th>FEMENINO</th>\n      <td>0</td>\n      <td>4</td>\n      <td>1732</td>\n      <td>3184</td>\n      <td>2127</td>\n      <td>1320</td>\n      <td>797</td>\n      <td>2</td>\n      <td>0</td>\n    </tr>\n    <tr>\n      <th>MASCULINO</th>\n      <td>0</td>\n      <td>10</td>\n      <td>800</td>\n      <td>1457</td>\n      <td>1198</td>\n      <td>815</td>\n      <td>483</td>\n      <td>12</td>\n      <td>0</td>\n    </tr>\n    <tr>\n      <th rowspan=\"2\" valign=\"top\">LAMBAYEQUE</th>\n      <th>FEMENINO</th>\n      <td>0</td>\n      <td>1</td>\n      <td>1143</td>\n      <td>2016</td>\n      <td>1522</td>\n      <td>888</td>\n      <td>551</td>\n      <td>3</td>\n      <td>0</td>\n    </tr>\n    <tr>\n      <th>MASCULINO</th>\n      <td>0</td>\n      <td>1</td>\n      <td>441</td>\n      <td>896</td>\n      <td>792</td>\n      <td>500</td>\n      <td>335</td>\n      <td>8</td>\n      <td>0</td>\n    </tr>\n    <tr>\n      <th rowspan=\"2\" valign=\"top\">LIMA</th>\n      <th>FEMENINO</th>\n      <td>0</td>\n      <td>39</td>\n      <td>7845</td>\n      <td>19744</td>\n      <td>15353</td>\n      <td>11757</td>\n      <td>6664</td>\n      <td>43</td>\n      <td>0</td>\n    </tr>\n    <tr>\n      <th>MASCULINO</th>\n      <td>0</td>\n      <td>61</td>\n      <td>3855</td>\n      <td>9214</td>\n      <td>7628</td>\n      <td>6034</td>\n      <td>3642</td>\n      <td>139</td>\n      <td>0</td>\n    </tr>\n    <tr>\n      <th rowspan=\"2\" valign=\"top\">LORETO</th>\n      <th>FEMENINO</th>\n      <td>0</td>\n      <td>2</td>\n      <td>516</td>\n      <td>1204</td>\n      <td>829</td>\n      <td>444</td>\n      <td>216</td>\n      <td>5</td>\n      <td>0</td>\n    </tr>\n    <tr>\n      <th>MASCULINO</th>\n      <td>0</td>\n      <td>6</td>\n      <td>376</td>\n      <td>768</td>\n      <td>520</td>\n      <td>323</td>\n      <td>199</td>\n      <td>14</td>\n      <td>0</td>\n    </tr>\n    <tr>\n      <th rowspan=\"2\" valign=\"top\">MADRE DE DIOS</th>\n      <th>FEMENINO</th>\n      <td>0</td>\n      <td>4</td>\n      <td>174</td>\n      <td>355</td>\n      <td>259</td>\n      <td>161</td>\n      <td>40</td>\n      <td>0</td>\n      <td>0</td>\n    </tr>\n    <tr>\n      <th>MASCULINO</th>\n      <td>0</td>\n      <td>1</td>\n      <td>75</td>\n      <td>174</td>\n      <td>129</td>\n      <td>93</td>\n      <td>46</td>\n      <td>1</td>\n      <td>0</td>\n    </tr>\n    <tr>\n      <th rowspan=\"2\" valign=\"top\">MOQUEGUA</th>\n      <th>FEMENINO</th>\n      <td>0</td>\n      <td>3</td>\n      <td>418</td>\n      <td>735</td>\n      <td>627</td>\n      <td>380</td>\n      <td>171</td>\n      <td>0</td>\n      <td>0</td>\n    </tr>\n    <tr>\n      <th>MASCULINO</th>\n      <td>0</td>\n      <td>4</td>\n      <td>133</td>\n      <td>336</td>\n      <td>274</td>\n      <td>251</td>\n      <td>138</td>\n      <td>1</td>\n      <td>0</td>\n    </tr>\n    <tr>\n      <th rowspan=\"2\" valign=\"top\">PASCO</th>\n      <th>FEMENINO</th>\n      <td>0</td>\n      <td>1</td>\n      <td>428</td>\n      <td>612</td>\n      <td>449</td>\n      <td>269</td>\n      <td>120</td>\n      <td>0</td>\n      <td>0</td>\n    </tr>\n    <tr>\n      <th>MASCULINO</th>\n      <td>0</td>\n      <td>3</td>\n      <td>159</td>\n      <td>302</td>\n      <td>291</td>\n      <td>171</td>\n      <td>107</td>\n      <td>1</td>\n      <td>0</td>\n    </tr>\n    <tr>\n      <th rowspan=\"2\" valign=\"top\">PIURA</th>\n      <th>FEMENINO</th>\n      <td>0</td>\n      <td>7</td>\n      <td>1338</td>\n      <td>2464</td>\n      <td>2164</td>\n      <td>1112</td>\n      <td>386</td>\n      <td>6</td>\n      <td>0</td>\n    </tr>\n    <tr>\n      <th>MASCULINO</th>\n      <td>0</td>\n      <td>11</td>\n      <td>607</td>\n      <td>1177</td>\n      <td>1079</td>\n      <td>775</td>\n      <td>422</td>\n      <td>9</td>\n      <td>0</td>\n    </tr>\n    <tr>\n      <th rowspan=\"2\" valign=\"top\">PUNO</th>\n      <th>FEMENINO</th>\n      <td>0</td>\n      <td>3</td>\n      <td>827</td>\n      <td>1611</td>\n      <td>1035</td>\n      <td>728</td>\n      <td>438</td>\n      <td>5</td>\n      <td>0</td>\n    </tr>\n    <tr>\n      <th>MASCULINO</th>\n      <td>0</td>\n      <td>0</td>\n      <td>273</td>\n      <td>695</td>\n      <td>599</td>\n      <td>429</td>\n      <td>421</td>\n      <td>10</td>\n      <td>0</td>\n    </tr>\n    <tr>\n      <th rowspan=\"2\" valign=\"top\">SAN MARTIN</th>\n      <th>FEMENINO</th>\n      <td>0</td>\n      <td>9</td>\n      <td>936</td>\n      <td>1669</td>\n      <td>836</td>\n      <td>531</td>\n      <td>181</td>\n      <td>0</td>\n      <td>0</td>\n    </tr>\n    <tr>\n      <th>MASCULINO</th>\n      <td>0</td>\n      <td>11</td>\n      <td>529</td>\n      <td>1019</td>\n      <td>581</td>\n      <td>386</td>\n      <td>196</td>\n      <td>2</td>\n      <td>0</td>\n    </tr>\n    <tr>\n      <th rowspan=\"2\" valign=\"top\">TACNA</th>\n      <th>FEMENINO</th>\n      <td>0</td>\n      <td>4</td>\n      <td>415</td>\n      <td>741</td>\n      <td>704</td>\n      <td>480</td>\n      <td>290</td>\n      <td>0</td>\n      <td>0</td>\n    </tr>\n    <tr>\n      <th>MASCULINO</th>\n      <td>0</td>\n      <td>6</td>\n      <td>222</td>\n      <td>331</td>\n      <td>322</td>\n      <td>287</td>\n      <td>185</td>\n      <td>6</td>\n      <td>0</td>\n    </tr>\n    <tr>\n      <th rowspan=\"2\" valign=\"top\">TUMBES</th>\n      <th>FEMENINO</th>\n      <td>0</td>\n      <td>0</td>\n      <td>314</td>\n      <td>512</td>\n      <td>428</td>\n      <td>211</td>\n      <td>93</td>\n      <td>1</td>\n      <td>0</td>\n    </tr>\n    <tr>\n      <th>MASCULINO</th>\n      <td>0</td>\n      <td>0</td>\n      <td>171</td>\n      <td>277</td>\n      <td>248</td>\n      <td>166</td>\n      <td>87</td>\n      <td>4</td>\n      <td>0</td>\n    </tr>\n    <tr>\n      <th rowspan=\"2\" valign=\"top\">UCAYALI</th>\n      <th>FEMENINO</th>\n      <td>0</td>\n      <td>3</td>\n      <td>562</td>\n      <td>893</td>\n      <td>649</td>\n      <td>336</td>\n      <td>151</td>\n      <td>1</td>\n      <td>0</td>\n    </tr>\n    <tr>\n      <th>MASCULINO</th>\n      <td>0</td>\n      <td>6</td>\n      <td>333</td>\n      <td>511</td>\n      <td>407</td>\n      <td>266</td>\n      <td>142</td>\n      <td>7</td>\n      <td>0</td>\n    </tr>\n  </tbody>\n</table>\n</div>"
     },
     "metadata": {},
     "execution_count": 59
    }
   ],
   "source": [
    "# Visualizo los datos agrupados via DataFrame\n",
    "gb.size().unstack()"
   ]
  },
  {
   "source": [
    "yticks = [5,15,25,35,45,55,65,75,85]\n",
    "\n",
    "def generate_plot(department, data, date_range):\n",
    "\n",
    "    # Creamos la figura, los ejes y agregamos la atribución\n",
    "    fig, axs = plt.subplots(1,2, figsize=(20,10))\n",
    "    plt.figtext(0.1,0.95, department + ': DISTRIBUCIÓN DE VACUNADOS CONTRA COVID-19 (N=' + str(len(data)) + ')', ha='left', fontsize=24)\n",
    "    plt.figtext(0.1,0.91, 'Rango de fechas de vacunación: del {} al {}'.format(f'{date_range[0]:%Y-%m-%d}',f'{date_range[1]:%Y-%m-%d}'), ha='left', fontsize=20, color='#999')\n",
    "    plt.figtext(0.9,0.02, \"\"\"Fuente: https://www.datosabiertos.gob.pe/dataset/vacunaci%C3%B3n-contra-covid-19-ministerio-de-salud-minsa\n",
    "    https://malexandersalazar.github.io/, Moisés Alexander Salazar Vila, \"\"\" + f'{datetime.now():%Y-%m-%d}', ha='right')\n",
    "\n",
    "    ## 1. Trazamos el primer histograma\n",
    "    N, bins, patches = axs[0].hist(data[\"EDAD\"], BINS, orientation = 'horizontal')\n",
    "\n",
    "    ### Colorearemos las barras en base el conteo relativo de cada agrupación\n",
    "    fracs = N / N.max()\n",
    "    norm = colors.Normalize(fracs.min(), fracs.max())\n",
    "\n",
    "    ### Recorremos las barras y actualizamos cada color respectivamente\n",
    "    for thisfrac, thispatch in zip(fracs, patches):\n",
    "        color = plt.cm.viridis(norm(thisfrac))\n",
    "        thispatch.set_facecolor(color)\n",
    "\n",
    "    ### Personalizamos las ejes de nuestro gráfico\n",
    "    axs[0].set_yticklabels([])\n",
    "    axs[0].yaxis.set_tick_params(width=0)\n",
    "    axs[0].set_yticks(yticks, minor=True)\n",
    "    axs[0].set_yticklabels(['0-9','10-19', '20-29', '30-39', '40-49', '50-59', '60-69', '70-79', '80+'], minor=True)\n",
    "    axs[0].set_ylim(0,90)\n",
    "    axs[0].set_ylabel('Grupo etáreo (años)')\n",
    "\n",
    "    ### Calculamos y anotamos los porcentajes correspondientes a cada barra\n",
    "    for i in range(len(BINS)-1):\n",
    "        axs[0].text(N[i]+15, yticks[i]-1, str(round(N[i]*100/len(data),2)) + '%')\n",
    "\n",
    "    ## 2. Trazamos el segundo histograma\n",
    "    males = data[data['SEXO'] == 'MASCULINO'][\"EDAD\"]\n",
    "    females = data[data['SEXO'] == 'FEMENINO'][\"EDAD\"]\n",
    "\n",
    "    N, bins, patches = axs[1].hist([males, females], BINS, orientation = 'horizontal')\n",
    "\n",
    "    axs[1].set_yticklabels([])\n",
    "    axs[1].yaxis.set_tick_params(width=0)\n",
    "    axs[1].set_yticks(yticks, minor=True)\n",
    "    axs[1].set_ylim(0,90)\n",
    "\n",
    "    for i in range(len(BINS)-1):\n",
    "        axs[1].text(N[0][i]+15, yticks[i]-3, str(round(N[0][i]*100/len(data),2)) + '%')\n",
    "        axs[1].text(N[1][i]+15, yticks[i]+1, str(round(N[1][i]*100/len(data),2)) + '%')\n",
    "\n",
    "    axs[1].legend(['Hombres (n=' + str(len(males)) + ')', 'Mujeres (n=' + str(len(females)) + ')'])\n",
    "\n",
    "    ## 3. Mostramos, guardamos y generamos el Markdown para las imágenes\n",
    "\n",
    "    sns.despine(left=False, bottom=False)\n",
    "    filename = 'dist/{}_{}.png'.format(f'{datetime.now():%Y%m%d}', department.replace(' ', '_'))\n",
    "    plt.savefig(\"../\" + filename)\n",
    "    with open(\"../dist/images.txt\", \"a\") as f:\n",
    "        f.write('### {}\\n'.format(department))\n",
    "        f.write('![alt text]({} \"{}\")\\n'.format(filename, department.replace(' ', '_')))\n",
    "\n",
    "    # plt.show()"
   ],
   "cell_type": "code",
   "metadata": {},
   "execution_count": 60,
   "outputs": []
  },
  {
   "cell_type": "code",
   "execution_count": 61,
   "metadata": {},
   "outputs": [],
   "source": [
    "if os.path.exists(\"../dist/images.txt\"):\n",
    "  os.remove(\"../dist/images.txt\")\n",
    "\n",
    "departments_ordered = np.sort(df['DEPARTAMENTO'].unique())\n",
    "for d in departments_ordered:\n",
    "    data = get_data_by_department(d)\n",
    "    dates = pd.to_datetime(data['FECHA_VACUNACION'], infer_datetime_format=False, format='%Y%m%d')\n",
    "    generate_plot(d, data, (dates.min(), dates.max()))"
   ]
  }
 ]
}